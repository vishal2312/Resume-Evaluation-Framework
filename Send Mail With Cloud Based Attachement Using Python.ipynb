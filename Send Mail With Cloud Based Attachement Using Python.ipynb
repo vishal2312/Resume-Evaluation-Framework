{
 "cells": [
  {
   "cell_type": "code",
   "execution_count": 1,
   "id": "0b3451c8",
   "metadata": {},
   "outputs": [],
   "source": [
    "import os\n",
    "import zipfile\n",
    "import yagmail"
   ]
  },
  {
   "cell_type": "code",
   "execution_count": 2,
   "id": "0fe493b4",
   "metadata": {},
   "outputs": [],
   "source": [
    "os.chdir(\"/home/vishal/Documents/Python/Job-Descriptions\")\n",
    "handle = zipfile.ZipFile(\"/home/vishal/Documents/Python/file.zip\", 'w')\n",
    "\n",
    "for file in os.listdir():\n",
    "    handle.write(file, compress_type = zipfile.ZIP_DEFLATED)\n",
    "\n",
    "handle.close()"
   ]
  },
  {
   "cell_type": "code",
   "execution_count": 3,
   "id": "b7984000",
   "metadata": {},
   "outputs": [
    {
     "name": "stderr",
     "output_type": "stream",
     "text": [
      "/usr/lib/python3/dist-packages/requests/__init__.py:89: RequestsDependencyWarning: urllib3 (1.26.13) or chardet (3.0.4) doesn't match a supported version!\n",
      "  warnings.warn(\"urllib3 ({}) or chardet ({}) doesn't match a supported \"\n"
     ]
    },
    {
     "name": "stdout",
     "output_type": "stream",
     "text": [
      "File ID: 1t5sG91WEWkrNwq6xnTHl6UtLILmeyYLE\n"
     ]
    }
   ],
   "source": [
    "import os\n",
    "import pickle\n",
    "import urllib.parse\n",
    "from google.auth.transport.requests import Request\n",
    "from google_auth_oauthlib.flow import InstalledAppFlow\n",
    "from googleapiclient.discovery import build\n",
    "from googleapiclient.errors import HttpError\n",
    "from google.oauth2.credentials import Credentials\n",
    "from googleapiclient.http import MediaFileUpload\n",
    "\n",
    "SCOPES = ['https://www.googleapis.com/auth/drive.file']\n",
    "\n",
    "folder_id = '1Dqt0ymxRh1h_Zre5RUmnzEJHTDe3BG_8'\n",
    "\n",
    "file_path = '/home/vishal/Documents/Python/file.zip'\n",
    "\n",
    "mime_type = 'application/zip'\n",
    "\n",
    "file_name = 'file'\n",
    "\n",
    "# Load the client secret file and OAuth client ID\n",
    "creds = None\n",
    "if os.path.exists('token.pickle'):\n",
    "    with open('token.pickle', 'rb') as token:\n",
    "        creds = pickle.load(token)\n",
    "if not creds or not creds.valid:\n",
    "    if creds and creds.expired and creds.refresh_token:\n",
    "        creds.refresh(Request())\n",
    "    else:\n",
    "        flow = InstalledAppFlow.from_client_secrets_file('/home/vishal/Documents/Python/client_secrets.json', SCOPES)\n",
    "        creds = flow.run_local_server(port=0)\n",
    "    with open('token.pickle', 'wb') as token:\n",
    "        pickle.dump(creds, token)\n",
    "\n",
    "# Create a Google Drive API client using the credentials\n",
    "service = build('drive', 'v3', credentials=creds)\n",
    "\n",
    "# Upload the file to Google Drive\n",
    "file_metadata = {'name': file_name, 'parents': [folder_id]}\n",
    "media = MediaFileUpload(file_path, mimetype=mime_type)\n",
    "file = service.files().create(body=file_metadata, media_body=media, fields='id').execute()\n",
    "print('File ID: %s' % file.get('id'))\n"
   ]
  },
  {
   "cell_type": "code",
   "execution_count": 4,
   "id": "f5238d4d",
   "metadata": {},
   "outputs": [
    {
     "name": "stdout",
     "output_type": "stream",
     "text": [
      "File Link: https://drive.google.com/uc?id=1t5sG91WEWkrNwq6xnTHl6UtLILmeyYLE&export=download\n"
     ]
    }
   ],
   "source": [
    "file_id = file.get(\"id\")\n",
    "permission = {'type': 'anyone', 'role': 'reader'}\n",
    "service.permissions().create(fileId=file_id, body=permission, fields='id').execute()\n",
    "\n",
    "file = service.files().get(fileId=file_id, fields='webContentLink').execute()\n",
    "link = file.get('webContentLink')\n",
    "\n",
    "print(F'File Link: {link}')"
   ]
  },
  {
   "cell_type": "code",
   "execution_count": 15,
   "id": "f029c59d",
   "metadata": {},
   "outputs": [],
   "source": [
    "recipients = [\"vishal23omanakuttan@gmail.com\", \"vinduja76@gmail.com\"]\n",
    "subject = \"Test Mail\"\n",
    "body = \"Compress files and Send email with attachment using python\""
   ]
  },
  {
   "cell_type": "code",
   "execution_count": 16,
   "id": "79d94c6b",
   "metadata": {},
   "outputs": [
    {
     "data": {
      "text/plain": [
       "{}"
      ]
     },
     "execution_count": 16,
     "metadata": {},
     "output_type": "execute_result"
    }
   ],
   "source": [
    "yag = yagmail.SMTP(user = \"vishal23reigns@gmail.com\", password = \"rtafvkexnlunmbfg\")\n",
    "yag.send(to = recipients,\n",
    "        subject = subject,\n",
    "        contents = [body, link])"
   ]
  },
  {
   "cell_type": "code",
   "execution_count": null,
   "id": "9aeee7f0",
   "metadata": {},
   "outputs": [],
   "source": []
  },
  {
   "cell_type": "code",
   "execution_count": null,
   "id": "59ef35c0",
   "metadata": {},
   "outputs": [],
   "source": []
  },
  {
   "cell_type": "code",
   "execution_count": null,
   "id": "c2f51313",
   "metadata": {},
   "outputs": [],
   "source": []
  },
  {
   "cell_type": "code",
   "execution_count": null,
   "id": "ab266299",
   "metadata": {},
   "outputs": [],
   "source": []
  },
  {
   "cell_type": "code",
   "execution_count": null,
   "id": "bfca319a",
   "metadata": {},
   "outputs": [],
   "source": []
  },
  {
   "cell_type": "markdown",
   "id": "a5414031",
   "metadata": {},
   "source": [
    "# Service account "
   ]
  },
  {
   "cell_type": "code",
   "execution_count": null,
   "id": "6ef67fb6",
   "metadata": {},
   "outputs": [],
   "source": [
    "from google.oauth2.service_account import Credentials\n",
    "from googleapiclient.discovery import build\n",
    "from googleapiclient.http import MediaFileUpload\n",
    "\n",
    "scopes = ['https://www.googleapis.com/auth/drive']\n",
    "\n",
    "# Replace with the path to your service account's private key file\n",
    "creds = Credentials.from_service_account_file('/home/vishal/Documents/Python/service_account.json', scopes=scopes)\n",
    "\n",
    "service = build('drive', 'v3', credentials=creds)\n",
    "folder_id = '1Dqt0ymxRh1h_Zre5RUmnzEJHTDe3BG_8'\n",
    "\n",
    "file_metadata = {\n",
    "    'name': 'file',\n",
    "    'parents' : folder_id,\n",
    "    'mimeType': 'application/zip'\n",
    "}\n",
    "\n",
    "media = MediaFileUpload('/home/vishal/Documents/Python/file.zip',\n",
    "                        mimetype='application/zip',\n",
    "                        resumable=True)\n",
    "\n",
    "file = service.files().create(body=file_metadata, media_body=media, fields='id').execute()\n",
    "\n",
    "print(F'File ID: {file.get(\"id\")}')"
   ]
  },
  {
   "cell_type": "code",
   "execution_count": null,
   "id": "03378036",
   "metadata": {},
   "outputs": [],
   "source": [
    "''''from google.oauth2.service_account import Credentials\n",
    "from googleapiclient.discovery import build\n",
    "\n",
    "# Replace with the path to your service account's private key file\n",
    "creds = Credentials.from_service_account_file('/home/vishal/Documents/Python/client_secret_1005385010792-5o2p01lts1kcf058qq8v2o82e8vldp7a.apps.googleusercontent.com.json')\n",
    "\n",
    "service = build('drive', 'v3', credentials=creds)'''\n",
    "\n",
    "file_id = file.get(\"id\")\n",
    "permission = {'type': 'anyone', 'role': 'reader'}\n",
    "service.permissions().create(fileId=file_id, body=permission, fields='id').execute()\n",
    "\n",
    "file = service.files().get(fileId=file_id, fields='webContentLink').execute()\n",
    "link = file.get('webContentLink')\n",
    "\n",
    "print(F'File Link: {link}')"
   ]
  },
  {
   "cell_type": "code",
   "execution_count": null,
   "id": "cbbbc525",
   "metadata": {},
   "outputs": [],
   "source": [
    "recipients = [\"vishal23omanakuttan@gmail.com\", \"vinduja76@gmail.com\"]\n",
    "subject = \"Assignment Submission\"\n",
    "body = \"Compress files and Send email with attachment using python\""
   ]
  },
  {
   "cell_type": "code",
   "execution_count": null,
   "id": "34e3f527",
   "metadata": {},
   "outputs": [],
   "source": [
    "yag = yagmail.SMTP(user = \"vishal23reigns@gmail.com\", password = \"rtafvkexnlunmbfg\")\n",
    "yag.send(to = recipients,\n",
    "        subject = subject,\n",
    "        contents = [body, link])"
   ]
  }
 ],
 "metadata": {
  "kernelspec": {
   "display_name": "Python 3 (ipykernel)",
   "language": "python",
   "name": "python3"
  },
  "language_info": {
   "codemirror_mode": {
    "name": "ipython",
    "version": 3
   },
   "file_extension": ".py",
   "mimetype": "text/x-python",
   "name": "python",
   "nbconvert_exporter": "python",
   "pygments_lexer": "ipython3",
   "version": "3.10.10"
  }
 },
 "nbformat": 4,
 "nbformat_minor": 5
}
